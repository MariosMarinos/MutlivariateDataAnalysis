{
 "metadata": {
  "language_info": {
   "codemirror_mode": {
    "name": "ipython",
    "version": 3
   },
   "file_extension": ".py",
   "mimetype": "text/x-python",
   "name": "python",
   "nbconvert_exporter": "python",
   "pygments_lexer": "ipython3",
   "version": "3.8.5-final"
  },
  "orig_nbformat": 2,
  "kernelspec": {
   "name": "reinforcmentlearning-env",
   "display_name": "ReinforcmentLearning-env",
   "language": "python"
  }
 },
 "nbformat": 4,
 "nbformat_minor": 2,
 "cells": [
  {
   "cell_type": "code",
   "execution_count": 1,
   "metadata": {},
   "outputs": [],
   "source": [
    "import pandas as pd \n",
    "import numpy as np\n",
    "\n",
    "from numpy import genfromtxt\n",
    "my_data = genfromtxt('dataexercise2.csv', delimiter=',')\n",
    "# drop first line of nan's (x1,x2..,y)\n",
    "my_data = np.delete(my_data, (0), axis=0)\n",
    "np.set_printoptions(suppress=True) #prevent numpy exponential \n",
    "                                   #notation on print, default False"
   ]
  },
  {
   "cell_type": "code",
   "execution_count": 2,
   "metadata": {},
   "outputs": [
    {
     "output_type": "stream",
     "name": "stdout",
     "text": [
      "[-0.12912544  0.70342299  2.81597232 -0.30588716]\n"
     ]
    }
   ],
   "source": [
    "Data_X = my_data[:,0:4]\n",
    "Data_Y = my_data[:,4]\n",
    "std_dev = 5\n",
    "# iterations to reach the minimum.\n",
    "iterations = 1000\n",
    "# draw random thetas from multivariate normal distribution.\n",
    "thetas = np.random.multivariate_normal(np.zeros(4,), np.eye(4) * std_dev)\n",
    "print (thetas)"
   ]
  },
  {
   "cell_type": "code",
   "execution_count": 3,
   "metadata": {
    "tags": []
   },
   "outputs": [],
   "source": [
    "# iterate to calculate the Laplace approx.abs\n",
    "for iteration in range(iterations):\n",
    "    # calculate the gradiant of the points.\n",
    "    grad = -Data_X.T @ np.exp(Data_X @ thetas.T) + Data_X.T @ Data_Y\n",
    "    # calculate the hessian matrix.\n",
    "    hessian = -Data_X.T @ np.diag(np.exp(Data_X @ thetas.T)) @ Data_X\n",
    "    # calculate new thetas\n",
    "    thetas = thetas - (np.linalg.inv(hessian) @ grad)\n"
   ]
  },
  {
   "cell_type": "code",
   "execution_count": 4,
   "metadata": {},
   "outputs": [
    {
     "output_type": "stream",
     "name": "stdout",
     "text": [
      "[ 1.12777336  0.42858431  0.01512131 -0.05416601]\n[[ 0.03140956 -0.00820031  0.00116572 -0.00139328]\n [-0.00820031  0.00305825 -0.00031134  0.00066138]\n [ 0.00116572 -0.00031134  0.0148073  -0.0014676 ]\n [-0.00139328  0.00066138 -0.0014676   0.01173136]]\n"
     ]
    }
   ],
   "source": [
    "#Calculate final means and covariance matrices of theta.\n",
    "means = thetas\n",
    "print(means)\n",
    "P = -np.linalg.inv(hessian) \n",
    "print(P)"
   ]
  }
 ]
}